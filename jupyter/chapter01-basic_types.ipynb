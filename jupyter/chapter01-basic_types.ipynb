{
  "cells": [{
  "cell_type": "markdown",
  "metadata": {},
  "source": ["# Basic Types\n", "Java has two kinds of type,\n", "- primitive types that are directly mapped to CPU basic types\n", "- reference types that address of the object in memory\n"]
}
,
{
  "cell_type": "markdown",
  "metadata": {},
  "source": ["## Primitive types \n", "primitive types, written in lower case, have no method\n"]
}
,
{
  "cell_type": "markdown",
  "metadata": {},
  "source": ["### boolean (true|false)\n"]
}
,
{
  "cell_type": "code",
  "execution_count": null,
  "metadata": {},
  "outputs": [],
  "source": ["var result = true;\n", "var anotherResult = false;\n"]
}
,
{
  "cell_type": "markdown",
  "metadata": {},
  "source": ["### char (character)\n"]
}
,
{
  "cell_type": "code",
  "execution_count": null,
  "metadata": {},
  "outputs": [],
  "source": ["var firstLetter = 'j';\n"]
}
,
{
  "cell_type": "markdown",
  "metadata": {},
  "source": ["### int (signed 32 bits integer)\n"]
}
,
{
  "cell_type": "code",
  "execution_count": null,
  "metadata": {},
  "outputs": [],
  "source": ["var numberOfLegs = 2;\n"]
}
,
{
  "cell_type": "markdown",
  "metadata": {},
  "source": ["### double (64 bits floating point)\n"]
}
,
{
  "cell_type": "code",
  "execution_count": null,
  "metadata": {},
  "outputs": [],
  "source": ["var cost = 3.78;\n"]
}
,
{
  "cell_type": "markdown",
  "metadata": {},
  "source": ["### long and float\n", "some more exotic types that requires a suffix (`L` or `f`)\n", "long (64 bits integers) and float (32 bits floating point numbers)\n"]
}
,
{
  "cell_type": "code",
  "execution_count": null,
  "metadata": {},
  "outputs": [],
  "source": ["var longValue = 123L;\n", "var floatValue = 123.5f;\n"]
}
,
{
  "cell_type": "markdown",
  "metadata": {},
  "source": ["### byte and short\n", "you also have byte (a signed 8 bits integer) and short (a signed 16 bits short integer)\n", "that are only useful to take less memory when defining an object\n"]
}
,
{
  "cell_type": "code",
  "execution_count": null,
  "metadata": {},
  "outputs": [],
  "source": ["record CompactHeader(byte tag, short version) {}\n"]
}
,
{
  "cell_type": "markdown",
  "metadata": {},
  "source": ["when used in variables, they are promoted to 32 bits integer\n", "in the following code result is a 32 bits integer (so an int)\n"]
}
,
{
  "cell_type": "code",
  "execution_count": null,
  "metadata": {},
  "outputs": [],
  "source": ["short value = 12;\n", "var result = value + value;\n"]
}
,
{
  "cell_type": "markdown",
  "metadata": {},
  "source": ["### primitive conversions\n", "You have automatic conversions if there is no loose of precision\n", "and converting to double or float is always allowed\n"]
}
,
{
  "cell_type": "code",
  "execution_count": null,
  "metadata": {},
  "outputs": [],
  "source": ["int intValue = 13;\n", "long longValue = intValue;\n"]
}
,
{
  "cell_type": "markdown",
  "metadata": {},
  "source": ["you can force conversion in the opposite direction using a cast\n", "supplementary bits will be shaved (use with reluctance)\n"]
}
,
{
  "cell_type": "code",
  "execution_count": null,
  "metadata": {},
  "outputs": [],
  "source": ["long longValue = 1_000_000_000_000L;\n", "int intValue = (int) longValue;\n", "System.out.println(intValue);\n"]
}
,
{
  "cell_type": "markdown",
  "metadata": {},
  "source": ["## Objects\n", "All other types are objects, there are two special types, String and arrays\n", "that are object but considered as built-in by the compiler\n"]
}
,
{
  "cell_type": "markdown",
  "metadata": {},
  "source": ["### String\n", "A String that stores a text (a sequence of characters) is delimited\n", "by two doublequotes\n"]
}
,
{
  "cell_type": "code",
  "execution_count": null,
  "metadata": {},
  "outputs": [],
  "source": ["var text = \"hello\"; \n", "System.out.println(text);\n"]
}
,
{
  "cell_type": "markdown",
  "metadata": {},
  "source": ["a String can also span several lines, it's called a __text block__\n", "and starts and ends with 3 double quotes\n"]
}
,
{
  "cell_type": "code",
  "execution_count": null,
  "metadata": {},
  "outputs": [],
  "source": ["var multilineText = \"\"\"\n", "   This is\n", "   a multilines string\n", "   \"\"\";\n", "System.out.println(multilineText);\n"]
}
,
{
  "cell_type": "markdown",
  "metadata": {},
  "source": ["The indentation is determined by the alignment compared to position of the last \"\"\"\n", "By example, to have an indentation of two spaces\n"]
}
,
{
  "cell_type": "code",
  "execution_count": null,
  "metadata": {},
  "outputs": [],
  "source": ["var multilineText = \"\"\"\n", "     This is\n", "     a multilines string\n", "     indented by two spaces\n", "   \"\"\";\n", "System.out.println(multilineText);\n"]
}
,
{
  "cell_type": "markdown",
  "metadata": {},
  "source": ["Strings have a lot of methods, here is some of them\n", "length of a String\n"]
}
,
{
  "cell_type": "code",
  "execution_count": null,
  "metadata": {},
  "outputs": [],
  "source": ["System.out.println(\"hello\".length());\n"]
}
,
{
  "cell_type": "markdown",
  "metadata": {},
  "source": ["to upper/lower case\n", "Locale.ROOT here ask for a result independent of the OS language\n"]
}
,
{
  "cell_type": "code",
  "execution_count": null,
  "metadata": {},
  "outputs": [],
  "source": ["System.out.println(\"hello\".toUpperCase(Locale.ROOT));\n", "System.out.println(\"hello\".toLowerCase(Locale.ROOT));\n"]
}
,
{
  "cell_type": "markdown",
  "metadata": {},
  "source": ["repeat the same pattern\n"]
}
,
{
  "cell_type": "code",
  "execution_count": null,
  "metadata": {},
  "outputs": [],
  "source": ["System.out.println(\"|*|\".repeat(3));\n"]
}
,
{
  "cell_type": "markdown",
  "metadata": {},
  "source": ["char at an index (starting with index 0)\n"]
}
,
{
  "cell_type": "code",
  "execution_count": null,
  "metadata": {},
  "outputs": [],
  "source": ["System.out.println(\"hello\".charAt(0));\n"]
}
,
{
  "cell_type": "markdown",
  "metadata": {},
  "source": ["index of a character\n"]
}
,
{
  "cell_type": "code",
  "execution_count": null,
  "metadata": {},
  "outputs": [],
  "source": ["System.out.println(\"hello\".indexOf('l'));\n", "System.out.println(\"hello\".indexOf('o'));\n"]
}
,
{
  "cell_type": "markdown",
  "metadata": {},
  "source": ["primitive to String\n", "The fastest and easy way to convert a primitive value to a String is\n", "to use the string concatenation (see chapter 'string formatting' for more)\n"]
}
,
{
  "cell_type": "code",
  "execution_count": null,
  "metadata": {},
  "outputs": [],
  "source": ["System.out.println(\"\" + 3);\n", "System.out.println(\"\" + 7.6);\n"]
}
,
{
  "cell_type": "markdown",
  "metadata": {},
  "source": ["String to primitive\n", "There are a bunch of static methods in Boolean, Integer or Double\n", "(see chapter 'wrapper' for more info) \n"]
}
,
{
  "cell_type": "code",
  "execution_count": null,
  "metadata": {},
  "outputs": [],
  "source": ["System.out.println(Integer.parseInt(\"3\"));\n", "System.out.println(Double.parseDouble(\"7.6\"));\n"]
}
,
{
  "cell_type": "markdown",
  "metadata": {},
  "source": ["### Array\n", "an array initialized with zeros (false, 0, 0.0, etc)\n"]
}
,
{
  "cell_type": "code",
  "execution_count": null,
  "metadata": {},
  "outputs": [],
  "source": ["var intArray = new int[2];\n"]
}
,
{
  "cell_type": "markdown",
  "metadata": {},
  "source": ["An array initialized with some default values\n", "Because a value like `2` or `3` can be an numeric type\n", "(an `int`, a `long`, a `short`, etc)\n", "you have to specify the type of the array when you create it\n"]
}
,
{
  "cell_type": "code",
  "execution_count": null,
  "metadata": {},
  "outputs": [],
  "source": ["var intArray = new int[] {2, 3 };\n", "var longArray = new long[] { 2, 3 };\n"]
}
,
{
  "cell_type": "markdown",
  "metadata": {},
  "source": ["you can use the operator [] to access or change the value\n", "of an array at a specific index\n"]
}
,
{
  "cell_type": "code",
  "execution_count": null,
  "metadata": {},
  "outputs": [],
  "source": ["System.out.println(intArray[0]);\n", "intArray[0] = 42;\n", "System.out.println(intArray[0]);\n"]
}
,
{
  "cell_type": "markdown",
  "metadata": {},
  "source": ["trying to access an array out of its bound raised an exception\n"]
}
,
{
  "cell_type": "code",
  "execution_count": null,
  "metadata": {},
  "outputs": [],
  "source": ["intArray[-1] = 42;   // throws IndexOutOfBoundsException\n"]
}
,
{
  "cell_type": "markdown",
  "metadata": {},
  "source": ["and a special syntax to get the length of an array\n", "Notice that there is no parenthesis when calling length,\n", "we will see later why.\n"]
}
,
{
  "cell_type": "code",
  "execution_count": null,
  "metadata": {},
  "outputs": [],
  "source": ["var arrayLength = intArray.length;\n", "System.out.println(arrayLength);\n"]
}
,
{
  "cell_type": "markdown",
  "metadata": {},
  "source": ["arrays have methods like \\toString()` or `equals()` but\n", "they are not implemented correctly, we will see later why\n"]
}
,
{
  "cell_type": "code",
  "execution_count": null,
  "metadata": {},
  "outputs": [],
  "source": ["System.out.println(intArray);\n", "System.out.println(new int[] {42}.equals(new int[] {42}));\n"]
}
,
{
  "cell_type": "markdown",
  "metadata": {},
  "source": ["### On arrays \n", "We don't use array much in Java, we have more\n", "powerful object like List, that we will see later \n"]
}
,
{
  "cell_type": "code",
  "execution_count": null,
  "metadata": {},
  "outputs": [],
  "source": ["var intList = List.of(2, 3);\n"]
}
,
{
  "cell_type": "markdown",
  "metadata": {},
  "source": ["## Static methods\n", "Because primitive types and arrays have (almost) no method,\n", "if you want to play with them you have to use static methods.\n", "A static method is a function that is declared on a type somewhere\n", "that you can call using the syntax `SomeWhere.methodName(arg0, arg1, arg2)`\n"]
}
,
{
  "cell_type": "markdown",
  "metadata": {},
  "source": ["by example to transform a String to an int, we call the method\n", "parseInt stored in the type `java.lang.Integer`\n"]
}
,
{
  "cell_type": "code",
  "execution_count": null,
  "metadata": {},
  "outputs": [],
  "source": ["var resultAsInt = java.lang.Integer.parseInt(\"42\");\n", "System.out.println(resultAsInt);\n"]
}
,
{
  "cell_type": "markdown",
  "metadata": {},
  "source": ["To transform an array to a text, there is the static method toString\n", "on the type `java.util.Arrays`\n"]
}
,
{
  "cell_type": "code",
  "execution_count": null,
  "metadata": {},
  "outputs": [],
  "source": ["var text = java.util.Arrays.toString(intArray);\n", "System.out.println(text);\n"]
}
],
  "metadata": {
    "kernelspec": {
      "display_name": "Java",
      "language": "java",
      "name": "java"
    },
    "language_info": {
      "codemirror_mode": "java",
      "file_extension": ".java",
      "mimetype": "text/x-java-source",
      "name": "Java",
      "pygments_lexer": "java",
      "version": "15"
    }
  },
  "nbformat": 4,
  "nbformat_minor": 2
}

