{
  "cells": [{
  "cell_type": "markdown",
  "metadata": {},
  "source": ["# Genesis\n", "In Java, there is strong division between primitive types like double that are written in lower case and\n", "objects like String that have a name that starts with an uppercase letter.\n"]
}
,
{
  "cell_type": "markdown",
  "metadata": {},
  "source": ["## Types\n", "A primitive type is stored as value while an object is stored as\n", "a reference (the address of the object in memory).\n", "In Java, `var` creates a new variable\n"]
}
,
{
  "cell_type": "code",
  "execution_count": null,
  "metadata": {},
  "outputs": [],
  "source": ["var maxIntensity = 1.0;   // it's a value\n", "var colorName = \"black\";  // it's a reference to String somewhere in memory\n"]
}
,
{
  "cell_type": "markdown",
  "metadata": {},
  "source": ["you can also indicate the type instead of `var`\n", "if you are using var, you are asking the compiler to find the type for you.\n"]
}
,
{
  "cell_type": "code",
  "execution_count": null,
  "metadata": {},
  "outputs": [],
  "source": ["String colorName = \"black\";\n"]
}
,
{
  "cell_type": "markdown",
  "metadata": {},
  "source": ["### System.out.println()\n", "To print a value in Java we have a weird incantation `System.out.println()` that we will detail later.\n"]
}
,
{
  "cell_type": "code",
  "execution_count": null,
  "metadata": {},
  "outputs": [],
  "source": ["System.out.println(maxIntensity);\n"]
}
,
{
  "cell_type": "markdown",
  "metadata": {},
  "source": ["Primitive types and objects can be printed using the same incantation.\n"]
}
,
{
  "cell_type": "code",
  "execution_count": null,
  "metadata": {},
  "outputs": [],
  "source": ["System.out.println(colorName);\n"]
}
,
{
  "cell_type": "markdown",
  "metadata": {},
  "source": ["### Concatenation with +\n", "If we want to print a text followed by a value, we use the operator `+`.\n"]
}
,
{
  "cell_type": "code",
  "execution_count": null,
  "metadata": {},
  "outputs": [],
  "source": ["System.out.println(\"the value of colorName is \" + colorName);\n"]
}
,
{
  "cell_type": "markdown",
  "metadata": {},
  "source": ["## A record is a user defined type\n", "here Light is defined as containing two components: a color (typed as a String) and\n", "an intensity (typed as a 64 bits floating number double).\n"]
}
,
{
  "cell_type": "code",
  "execution_count": null,
  "metadata": {},
  "outputs": [],
  "source": ["record Light(String color, double intensity) {}\n"]
}
,
{
  "cell_type": "markdown",
  "metadata": {},
  "source": ["### Object creation with `new`\n", "To create an object in memory, we use the operator `new` followed by the value of each record component.\n", "The following instruction creates a Light with \"blue\" as color and 1.0 as intensity.\n"]
}
,
{
  "cell_type": "code",
  "execution_count": null,
  "metadata": {},
  "outputs": [],
  "source": ["var blueLight = new Light(\"blue\", 1.0);\n", "System.out.println(blueLight);\n"]
}
,
{
  "cell_type": "markdown",
  "metadata": {},
  "source": ["### Record methods\n", "To interact with an object in Java, we use methods, that are functions attached to an object.\n", "To call a method, we use the operator `.` followed by the name of the method and its arguments.\n", "A record automatically declares methods to access its components so Light declares two methods\n", "color() and intensity().\n"]
}
,
{
  "cell_type": "markdown",
  "metadata": {},
  "source": ["By example to get the intensity of the object blueLight\n"]
}
,
{
  "cell_type": "code",
  "execution_count": null,
  "metadata": {},
  "outputs": [],
  "source": ["System.out.println(blueLight.intensity());\n"]
}
,
{
  "cell_type": "markdown",
  "metadata": {},
  "source": ["### toString()\n", "By default a record knows how to transform itself into a String\n", "in Java, the method to transform an object to a String is named toString().\n", "In fact, println() calls toString() if the argument is an object\n", "so when using println(), calling explicitly toString() is not necessary.\n"]
}
,
{
  "cell_type": "code",
  "execution_count": null,
  "metadata": {},
  "outputs": [],
  "source": ["System.out.println(blueLight.toString());\n", "System.out.println(blueLight);\n"]
}
,
{
  "cell_type": "markdown",
  "metadata": {},
  "source": ["### equals()\n", "In Java, you can ask if two objects are equal, using the method equals(Object).\n", "The return value is a boolean (a primitive type that is either true or false).\n"]
}
,
{
  "cell_type": "code",
  "execution_count": null,
  "metadata": {},
  "outputs": [],
  "source": ["var redLight = new Light(\"red\", 0.5);\n", "var redLight2 = new Light(\"red\", 0.5);\n", "System.out.println(blueLight.equals(redLight));\n", "System.out.println(redLight.equals(redLight2));\n"]
}
,
{
  "cell_type": "markdown",
  "metadata": {},
  "source": ["### hashCode()\n", "You can also ask to get an integer summary (a hash) of any objects.\n", "This is used to speed up data structures (hash tables).\n", "Two objects that are equals() must have the same hashCode().\n"]
}
,
{
  "cell_type": "code",
  "execution_count": null,
  "metadata": {},
  "outputs": [],
  "source": ["var greenLight = new Light(\"green\", 0.2);\n", "var greenLight2 = new Light(\"green\", 0.2);\n", "System.out.println(greenLight.hashCode());\n", "System.out.println(greenLight2.hashCode());\n"]
}
,
{
  "cell_type": "markdown",
  "metadata": {},
  "source": ["## Summary\n", "A `record` has components that are the parameters used to create an object\n", "To create an object we use the operator `new` followed by the arguments of the\n", "record components in the same order.\n", "To interact with an object, we are using methods that are functions that you\n", "call on an object using the operator `.`.\n", "A Record defines methods to access the value of a component, and also\n", "`toString()` to get the textual representation of an object and\n", "`equals()` and `hashCode()` to test if two objects are equal.\n"]
}
],
  "metadata": {
    "kernelspec": {
      "display_name": "Java",
      "language": "java",
      "name": "java"
    },
    "language_info": {
      "codemirror_mode": "java",
      "file_extension": ".java",
      "mimetype": "text/x-java-source",
      "name": "Java",
      "pygments_lexer": "java",
      "version": "15"
    }
  },
  "nbformat": 4,
  "nbformat_minor": 2
}

